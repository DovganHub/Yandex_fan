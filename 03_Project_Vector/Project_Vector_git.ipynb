{
 "cells": [
  {
   "cell_type": "markdown",
   "metadata": {},
   "source": [
    "Задача  - разработать такой метод преобразования данных, чтобы по ним было сложно восстановить персональную информацию. \n",
    "\n",
    "Нужно защитить данные, чтобы при преобразовании качество моделей машинного обучения не ухудшилось. "
   ]
  },
  {
   "cell_type": "markdown",
   "metadata": {},
   "source": [
    "### Содержание\n",
    "\n",
    "##### Часть 1. Загрузка необходимых библиотек и данных:\n",
    "* [1. Загрузка данных.](#1)\n",
    "\n",
    "##### Часть 2. Умножение матриц:\n",
    "* [1. Математическое обоснование умножения на матрицу.](#2)\n",
    "* [2. Обратное преобразование данных после умножения на матрицу.](#3)\n",
    "\n",
    "##### Часть 3. Алгоритм преобразования:\n",
    "* [1. Теория.](#4)\n",
    "\n",
    "##### Часть 4. Проверка алгоритм преобразования:\n",
    "* [1. Разделение на признаки.](#5)\n",
    "* [2. Умножение на матрицу.](#6)\n",
    "* [3. Запуск Линейной регрессии и сравнение данных.](#7)\n",
    "* [4. Обратное преобразование.](#8)\n"
   ]
  },
  {
   "cell_type": "markdown",
   "metadata": {},
   "source": [
    "## 1. Загрузка данных"
   ]
  },
  {
   "cell_type": "code",
   "execution_count": 1,
   "metadata": {},
   "outputs": [],
   "source": [
    "# Подгрузка библиотек\n",
    "import pandas as pd\n",
    "import seaborn as sns\n",
    "import matplotlib.pyplot as plt\n",
    "import numpy as np\n",
    "from IPython.display import display\n",
    "from sklearn.metrics import r2_score\n",
    "from sklearn.linear_model import LinearRegression\n",
    "from sklearn.model_selection import train_test_split\n",
    "from sklearn.metrics import mean_squared_error\n",
    "\n"
   ]
  },
  {
   "cell_type": "markdown",
   "metadata": {},
   "source": [
    "<a id='1'></a>"
   ]
  },
  {
   "cell_type": "code",
   "execution_count": 2,
   "metadata": {
    "scrolled": false
   },
   "outputs": [
    {
     "name": "stdout",
     "output_type": "stream",
     "text": [
      "Размер датафрейма data - (5000, 5)\n",
      "Пропусков по колонке: Пол  -  0 , доля: 0.00%\n",
      "Пропусков по колонке: Возраст  -  0 , доля: 0.00%\n",
      "Пропусков по колонке: Зарплата  -  0 , доля: 0.00%\n",
      "Пропусков по колонке: Члены семьи  -  0 , доля: 0.00%\n",
      "Пропусков по колонке: Страховые выплаты  -  0 , доля: 0.00%\n",
      "<class 'pandas.core.frame.DataFrame'>\n",
      "RangeIndex: 5000 entries, 0 to 4999\n",
      "Data columns (total 5 columns):\n",
      "Пол                  5000 non-null int64\n",
      "Возраст              5000 non-null float64\n",
      "Зарплата             5000 non-null float64\n",
      "Члены семьи          5000 non-null int64\n",
      "Страховые выплаты    5000 non-null int64\n",
      "dtypes: float64(2), int64(3)\n",
      "memory usage: 195.4 KB\n"
     ]
    },
    {
     "data": {
      "text/plain": [
       "None"
      ]
     },
     "metadata": {},
     "output_type": "display_data"
    },
    {
     "name": "stdout",
     "output_type": "stream",
     "text": [
      "------------------------------------------- \n"
     ]
    }
   ],
   "source": [
    "# Посмотрим на данные\n",
    "data = pd.read_csv('https://code.s3.yandex.net/datasets/insurance.csv', sep=',')\n",
    "\n",
    "for data, name in zip([data], ['data']):\n",
    "    print(f'Размер датафрейма {name} - {data.shape}')\n",
    "    for column in (data.columns):\n",
    "        data[column].value_counts()\n",
    "        print(\"Пропусков по колонке:\", column,\" - \", data[column]\\\n",
    "                                    .isna().sum(), \", доля: {:.2%}\"\\\n",
    "                                    .format(data[column].isna().sum()/len(data[column]))) \n",
    "    display(data.info())\n",
    "    print(\"------------------------------------------- \")\n"
   ]
  },
  {
   "cell_type": "markdown",
   "metadata": {},
   "source": [
    "пропусков нет, данные имеют правильный тип - это хороший признак)"
   ]
  },
  {
   "cell_type": "markdown",
   "metadata": {},
   "source": [
    "Посмотрим на данные"
   ]
  },
  {
   "cell_type": "code",
   "execution_count": 3,
   "metadata": {
    "scrolled": false
   },
   "outputs": [
    {
     "data": {
      "text/html": [
       "<div>\n",
       "<style scoped>\n",
       "    .dataframe tbody tr th:only-of-type {\n",
       "        vertical-align: middle;\n",
       "    }\n",
       "\n",
       "    .dataframe tbody tr th {\n",
       "        vertical-align: top;\n",
       "    }\n",
       "\n",
       "    .dataframe thead th {\n",
       "        text-align: right;\n",
       "    }\n",
       "</style>\n",
       "<table border=\"1\" class=\"dataframe\">\n",
       "  <thead>\n",
       "    <tr style=\"text-align: right;\">\n",
       "      <th></th>\n",
       "      <th>Пол</th>\n",
       "      <th>Возраст</th>\n",
       "      <th>Зарплата</th>\n",
       "      <th>Члены семьи</th>\n",
       "      <th>Страховые выплаты</th>\n",
       "    </tr>\n",
       "  </thead>\n",
       "  <tbody>\n",
       "    <tr>\n",
       "      <td>0</td>\n",
       "      <td>1</td>\n",
       "      <td>41.0</td>\n",
       "      <td>49600.0</td>\n",
       "      <td>1</td>\n",
       "      <td>0</td>\n",
       "    </tr>\n",
       "    <tr>\n",
       "      <td>1</td>\n",
       "      <td>0</td>\n",
       "      <td>46.0</td>\n",
       "      <td>38000.0</td>\n",
       "      <td>1</td>\n",
       "      <td>1</td>\n",
       "    </tr>\n",
       "    <tr>\n",
       "      <td>2</td>\n",
       "      <td>0</td>\n",
       "      <td>29.0</td>\n",
       "      <td>21000.0</td>\n",
       "      <td>0</td>\n",
       "      <td>0</td>\n",
       "    </tr>\n",
       "    <tr>\n",
       "      <td>3</td>\n",
       "      <td>0</td>\n",
       "      <td>21.0</td>\n",
       "      <td>41700.0</td>\n",
       "      <td>2</td>\n",
       "      <td>0</td>\n",
       "    </tr>\n",
       "    <tr>\n",
       "      <td>4</td>\n",
       "      <td>1</td>\n",
       "      <td>28.0</td>\n",
       "      <td>26100.0</td>\n",
       "      <td>0</td>\n",
       "      <td>0</td>\n",
       "    </tr>\n",
       "    <tr>\n",
       "      <td>5</td>\n",
       "      <td>1</td>\n",
       "      <td>43.0</td>\n",
       "      <td>41000.0</td>\n",
       "      <td>2</td>\n",
       "      <td>1</td>\n",
       "    </tr>\n",
       "    <tr>\n",
       "      <td>6</td>\n",
       "      <td>1</td>\n",
       "      <td>39.0</td>\n",
       "      <td>39700.0</td>\n",
       "      <td>2</td>\n",
       "      <td>0</td>\n",
       "    </tr>\n",
       "    <tr>\n",
       "      <td>7</td>\n",
       "      <td>1</td>\n",
       "      <td>25.0</td>\n",
       "      <td>38600.0</td>\n",
       "      <td>4</td>\n",
       "      <td>0</td>\n",
       "    </tr>\n",
       "    <tr>\n",
       "      <td>8</td>\n",
       "      <td>1</td>\n",
       "      <td>36.0</td>\n",
       "      <td>49700.0</td>\n",
       "      <td>1</td>\n",
       "      <td>0</td>\n",
       "    </tr>\n",
       "    <tr>\n",
       "      <td>9</td>\n",
       "      <td>1</td>\n",
       "      <td>32.0</td>\n",
       "      <td>51700.0</td>\n",
       "      <td>1</td>\n",
       "      <td>0</td>\n",
       "    </tr>\n",
       "  </tbody>\n",
       "</table>\n",
       "</div>"
      ],
      "text/plain": [
       "   Пол  Возраст  Зарплата  Члены семьи  Страховые выплаты\n",
       "0    1     41.0   49600.0            1                  0\n",
       "1    0     46.0   38000.0            1                  1\n",
       "2    0     29.0   21000.0            0                  0\n",
       "3    0     21.0   41700.0            2                  0\n",
       "4    1     28.0   26100.0            0                  0\n",
       "5    1     43.0   41000.0            2                  1\n",
       "6    1     39.0   39700.0            2                  0\n",
       "7    1     25.0   38600.0            4                  0\n",
       "8    1     36.0   49700.0            1                  0\n",
       "9    1     32.0   51700.0            1                  0"
      ]
     },
     "metadata": {},
     "output_type": "display_data"
    },
    {
     "name": "stdout",
     "output_type": "stream",
     "text": [
      "Целевой признак имеет следующие вариации: \n",
      " 0    4436\n",
      "1     423\n",
      "2     115\n",
      "3      18\n",
      "4       7\n",
      "5       1\n",
      "Name: Страховые выплаты, dtype: int64\n"
     ]
    }
   ],
   "source": [
    "# посмотрим на все данные в таблице и на целевой признак\n",
    "display(data.head(10))\n",
    "print('Целевой признак имеет следующие вариации: \\n', data['Страховые выплаты'].value_counts())"
   ]
  },
  {
   "cell_type": "markdown",
   "metadata": {},
   "source": [
    "## 2. Умножение матриц <a id='2'></a>"
   ]
  },
  {
   "cell_type": "markdown",
   "metadata": {},
   "source": [
    "В этом задании вы можете записывать формулы в *Jupyter Notebook.*\n",
    "\n",
    "Чтобы записать формулу внутри текста, окружите её символами доллара \\\\$; если снаружи —  двойными символами \\\\$\\\\$. Эти формулы записываются на языке вёрстки *LaTeX.* \n",
    "\n",
    "Для примера мы записали формулы линейной регрессии. Можете их скопировать и отредактировать, чтобы решить задачу.\n",
    "\n",
    "Работать в *LaTeX* необязательно."
   ]
  },
  {
   "cell_type": "markdown",
   "metadata": {},
   "source": [
    "Обозначения:\n",
    "\n",
    "- $X$ — матрица признаков (нулевой столбец состоит из единиц)\n",
    "\n",
    "- $y$ — вектор целевого признака\n",
    "\n",
    "- $P$ — матрица, на которую умножаются признаки\n",
    "\n",
    "- $w$ — вектор весов линейной регрессии (нулевой элемент равен сдвигу)"
   ]
  },
  {
   "cell_type": "markdown",
   "metadata": {},
   "source": [
    "Предсказания:\n",
    "\n",
    "$$\n",
    "a = Xw\n",
    "$$\n",
    "\n",
    "Задача обучения:\n",
    "\n",
    "$$\n",
    "w = \\arg\\min_w MSE(Xw, y)\n",
    "$$\n",
    "\n",
    "Формула обучения:\n",
    "\n",
    "$$\n",
    "w = (X^T X)^{-1} X^T y\n",
    "$$"
   ]
  },
  {
   "cell_type": "markdown",
   "metadata": {},
   "source": [
    "### поехали ------->>>>>>>>>\n"
   ]
  },
  {
   "cell_type": "markdown",
   "metadata": {},
   "source": [
    "\n",
    "1. Формула обучения дана в таком виде:\n",
    "$$\n",
    "w = (X^T X)^{-1} X^T y\n",
    "$$\n",
    "\n",
    "\n",
    "2. Представим $X_1$ как произведение старой X на матрицу M:\n",
    "$$\n",
    "X_1 = XM\n",
    "$$\n",
    "\n",
    "\n",
    "3. Подставим новое значение X в формулу $w$:\n",
    "$$\n",
    "w1 = ((XM)^T XM)^{-1} (XM)^T y\n",
    "$$\n",
    "\n",
    "4. Раскроем первое произведение $ (XM)^T $:\n",
    "$$\n",
    "w1 = (M^T X^T X M)^{-1} M^T X^T y\n",
    "$$\n",
    "\n",
    "5. Раскроем скобки :\n",
    "$$\n",
    "w1 = ((X^TХM)^{-1}(M^T)^{-1})M^T X^Ty\n",
    "$$\n",
    "$$\n",
    "w1 = (M)^{-1}(X^TХ)^{-1}(M^T)^{-1}M^T X^Ty\n",
    "$$\n",
    "\n",
    "6. Поскольку матрица M обратима, то произведение $(M^T)^{-1} M^T$ равно E:  \n",
    "$$\n",
    "w1 = M^{-1}(X^TХ)^{-1}X^Ty \n",
    "$$\n",
    "\n",
    "7. Заметим, что образовалась первоначальная формула $ w $: \n",
    "$$\n",
    "w1 = M^{-1}w \n",
    "$$\n",
    "\n",
    "8. Новый вектор предсказаний будет иметь вид:\n",
    "$$\n",
    "a1=X_1w1=XMM^{-1}w=Xw\n",
    "$$"
   ]
  },
  {
   "cell_type": "markdown",
   "metadata": {},
   "source": [
    "Судя по данной выкладки мы должны получить точно такие же предсказания и метрики, после умножения на обратимую матрицу(случайную), как и до умножения.\n"
   ]
  },
  {
   "cell_type": "markdown",
   "metadata": {},
   "source": [
    "Таргет «Страховые выплаты» в данном случае принимает значения 1,2,3,4,5. Если эти значения упорядочены, то есть значения 5 больше значения 4, то порой имеет смысл использовать регрессионную модель, так как она будет учитывать, что 5 больше 4, а модель классификации - нет. Проверим это встроенной в библиотеку sklearn Линейной Регрессией."
   ]
  },
  {
   "cell_type": "markdown",
   "metadata": {},
   "source": [
    "Создадим функции для предсказания и предсказания"
   ]
  },
  {
   "cell_type": "code",
   "execution_count": 4,
   "metadata": {},
   "outputs": [],
   "source": [
    "# функция моделей и вывода результата\n",
    "def model_predict(model_type, features, target, features_valid, target_valid, name):\n",
    "    \"\"\"\n",
    "    функция построения и проверки модели: \n",
    "    model_type - тип модели\n",
    "    features -  признаки \n",
    "    target -  целевой признак\n",
    "    features_valid -  валидационный признак\n",
    "    target_valid - валидационный целевой признак\n",
    "    name - имя для отображения на принте\n",
    "    На выход функция выдаст: оценку по созданной метрике оценки, модель для оценки.\n",
    "    \n",
    "    \"\"\"\n",
    "    # модель \n",
    "    model = model_type\n",
    "    # Обучим модель для остального добра\n",
    "    model.fit(features,target)\n",
    "    predict = model.predict(features_valid)\n",
    "    print('Значения ', name)\n",
    "    # метрики\n",
    "    r2_value = r2_score(target_valid, predict)\n",
    "    mse_value = mean_squared_error(target_valid, predict)\n",
    "    print(\"R2 метрика =  : {:.8f} \".format(r2_value))\n",
    "    print(\"MSE метрика =  : {:.8f} \".format(mse_value))\n",
    "    return(predict, mse_value, r2_value)\n",
    "    \n",
    "    \n",
    "# Функция для разделения на признаки \n",
    "def great_separator(df, column, test_size, name):\n",
    "    \"\"\"\n",
    "    функция для назначения признаков по: \n",
    "    column -  целевая колонка признака\n",
    "    df -  датафрейм для работы\n",
    "    test_size -  размер тестовой области\n",
    "    name -  имя целевого признака для отображения в принте\n",
    "    на выход функция выдаст 4 объекта :\n",
    "    1-features_train\n",
    "    2-features_valid\n",
    "    3-target_train\n",
    "    4-target_valid\n",
    "    \n",
    "    \"\"\"\n",
    "    target = df[column]\n",
    "    features = df.drop([column], axis=1)\n",
    "    features_train, features_valid, target_train, target_valid = train_test_split(features,\\\n",
    "                                                                             target, test_size=test_size,random_state=12345)\n",
    "    print('Размер обучающей области {} : {:.1%}'.format(name, len(features_train) / len(df)))\n",
    "    print('Размер валидационной области {} : {:.1%}'.format(name, len(features_valid) / len(df)))\n",
    "    return(features_train, features_valid, target_train, target_valid)    "
   ]
  },
  {
   "cell_type": "markdown",
   "metadata": {},
   "source": [
    "<a id='4'></a>"
   ]
  },
  {
   "cell_type": "markdown",
   "metadata": {},
   "source": [
    "преобразуем наши данные в исходный вид и увидим, связь параметров\n",
    "формула \n",
    "$$\n",
    "X_1 = XP\n",
    "$$\n",
    "$$\n",
    "X = X_1P^{-1}\n",
    "$$\n"
   ]
  },
  {
   "cell_type": "markdown",
   "metadata": {},
   "source": [
    "**Ответ:** Видно, что качество Линейной регрессии не изменилось после операции умножения признаков Х на случайную матрицу.\n",
    "\n",
    "**Обоснование:** Параметры линейной регрессии в исходной и в преобразованной связаны правилами умножения матриц. При матричном умножении  по двум матрицам строится третья. Она состоит из скалярных произведений строк первой матрицы на столбцы второй. По сути мы получили преобразованные по \"определенному ключу\" данные которые сохранили свои свойства для предсказания целевого признака. но при этому стали полностью анонимны. После обратного преобразования мы получили те же данные."
   ]
  },
  {
   "cell_type": "markdown",
   "metadata": {},
   "source": [
    "## 3. Алгоритм преобразования\n",
    "<a id='4'></a>"
   ]
  },
  {
   "cell_type": "markdown",
   "metadata": {},
   "source": [
    "**Алгоритм**\n",
    "Тут мне видится только ранее использванный способ умножения на матрицу:\n",
    "* 1) создаем и сохраняем матрицу - она будет ключом для дальнейшего обратного преобразования\n",
    "* 2) проверяем матрицу на обратимость - она обязательно должна быть обратимой\n",
    "* 3) умножаем наши данные на матрицу\n",
    "* 4) запускаем машину для предсказаний \n",
    "* 5) преобразовываем наши данные обратно по ключу, если нужно получить доступ к данным для работы\n",
    "..."
   ]
  },
  {
   "cell_type": "markdown",
   "metadata": {},
   "source": [
    "**Обоснование**\n",
    "* При такой операции преобразования данные сохранятся в виде векторов с значениями недоступными для восприятия с точки зрения пользователя и получения какой то личной информации. Но при этом они сохранят свойства векторов начальных данных необходимых для работы машинного обучения и предсказания нужной нам величины.\n",
    "..."
   ]
  },
  {
   "cell_type": "markdown",
   "metadata": {},
   "source": [
    "## 4. Проверка алгоритма\n",
    "<a id='5'></a>"
   ]
  },
  {
   "cell_type": "markdown",
   "metadata": {},
   "source": [
    "Я не придумал пока - нового алгоритма для преобразования. Я смог проверить и доказать только умножение на матрицу и верность метрик в 2 пункте этой работы. Возможно если есть какие то более конкретные идеи, то я думаю я смогу их воплотить в код. ) Буду рад замечаниям."
   ]
  },
  {
   "cell_type": "markdown",
   "metadata": {},
   "source": [
    "Запускаем ранее опробованный алгоритм"
   ]
  },
  {
   "cell_type": "code",
   "execution_count": 5,
   "metadata": {},
   "outputs": [
    {
     "name": "stdout",
     "output_type": "stream",
     "text": [
      "Размер обучающей области Страховка : 75.0%\n",
      "Размер валидационной области Страховка : 25.0%\n"
     ]
    }
   ],
   "source": [
    "# разделим наши выборки на таргет и признаки для 'Страховые выплаты'\n",
    "features_train, features_test, target_train, target_test = great_separator(data, 'Страховые выплаты', 0.25, 'Страховка')"
   ]
  },
  {
   "cell_type": "code",
   "execution_count": 6,
   "metadata": {},
   "outputs": [
    {
     "name": "stdout",
     "output_type": "stream",
     "text": [
      "Случайная матрица имеет вид \n",
      " [[ 1.38587702  3.43683001  0.44168385  0.33280909]\n",
      " [ 7.89734172  6.1802175   2.27872363  2.84523846]\n",
      " [ 4.3070677   5.73930421  5.02156807 -1.88866333]\n",
      " [ 2.8249749   2.68673864  6.05875051  4.65928802]]\n"
     ]
    }
   ],
   "source": [
    "# Для воспроизводимости результатов зафиксируем RandomState:\n",
    "state = np.random.RandomState(12345)\n",
    "# создадим случайную матрицу и проверим ее на обратимость\n",
    "M = state.normal(2, 3, size=(4, 4))\n",
    "# проверка на обратимость\n",
    "try:\n",
    "    np.linalg.inv(M)\n",
    "except:\n",
    "    print('Матрица необратимая')\n",
    "print(f'Случайная матрица имеет вид \\n {M}')"
   ]
  },
  {
   "cell_type": "code",
   "execution_count": 7,
   "metadata": {},
   "outputs": [
    {
     "name": "stdout",
     "output_type": "stream",
     "text": [
      "Значения  Начальные данные \n",
      "R2 метрика =  : 0.43522757 \n",
      "MSE метрика =  : 0.11660517 \n"
     ]
    }
   ],
   "source": [
    "# Запустим линейную регрессию\n",
    "predict_before,mse_before, r2_before = model_predict(LinearRegression(),\\\n",
    "                                        features_train, target_train, features_test, target_test, 'Начальные данные ')"
   ]
  },
  {
   "cell_type": "markdown",
   "metadata": {},
   "source": [
    "<a id='6'></a>"
   ]
  },
  {
   "cell_type": "code",
   "execution_count": 8,
   "metadata": {},
   "outputs": [],
   "source": [
    "# умножим наши данные на матрицу \n",
    "features_train_M = np.dot(features_train,M)\n",
    "features_test_M = np.dot(features_test,M)"
   ]
  },
  {
   "cell_type": "markdown",
   "metadata": {},
   "source": [
    "оценим наши данные на анонимность )"
   ]
  },
  {
   "cell_type": "code",
   "execution_count": 9,
   "metadata": {},
   "outputs": [
    {
     "data": {
      "text/plain": [
       "array([[ 156259.64738842,  208034.68529265,  181885.24978397,\n",
       "         -68242.27509877],\n",
       "       [ 248356.99517874,  330797.48667253,  289320.23927763,\n",
       "        -108689.93673792],\n",
       "       [ 177276.0224964 ,  236085.85669503,  206465.42569666,\n",
       "         -77528.35583485],\n",
       "       ...,\n",
       "       [ 192853.92817909,  256806.41063551,  224564.02095508,\n",
       "         -84301.60385805],\n",
       "       [ 215969.13332945,  287685.85261838,  251654.92736661,\n",
       "         -94540.8003014 ],\n",
       "       [ 175878.41176832,  234281.03586616,  204923.27311713,\n",
       "         -77003.40422463]])"
      ]
     },
     "metadata": {},
     "output_type": "display_data"
    }
   ],
   "source": [
    "# отобразим\n",
    "display(features_train_M)"
   ]
  },
  {
   "cell_type": "markdown",
   "metadata": {},
   "source": [
    "<a id='7'></a>"
   ]
  },
  {
   "cell_type": "code",
   "execution_count": 10,
   "metadata": {},
   "outputs": [
    {
     "name": "stdout",
     "output_type": "stream",
     "text": [
      "Значения  после умножения признаков\n",
      "R2 метрика =  : 0.43522757 \n",
      "MSE метрика =  : 0.11660517 \n",
      "----------------------------------\n",
      "Значения до умножения\n",
      "R2 метрика =  0.43522757\n",
      "MSE метрика =  0.11660517\n"
     ]
    }
   ],
   "source": [
    "# Запустим линейную регрессию на умноженных данных\n",
    "model_predict(LinearRegression(), features_train_M, target_train,\\\n",
    "                                                                features_test_M, target_test, 'после умножения признаков')\n",
    "print('----------------------------------')\n",
    "# Оценка значений до умножения\n",
    "print(\"Значения до умножения\")\n",
    "print(\"R2 метрика = \", round(r2_before, 8))\n",
    "print(\"MSE метрика = \", round(mse_before,8))"
   ]
  },
  {
   "cell_type": "markdown",
   "metadata": {},
   "source": [
    "преобразуем наши данные в исходный вид и увидим, связь параметров\n",
    "формула \n",
    "$$\n",
    "X_1 = XP\n",
    "$$\n",
    "$$\n",
    "X = X_1P^{-1}\n",
    "$$\n",
    "<a id='8'></a>"
   ]
  },
  {
   "cell_type": "code",
   "execution_count": 11,
   "metadata": {},
   "outputs": [
    {
     "data": {
      "text/plain": [
       "'Данные до преобразований: '"
      ]
     },
     "metadata": {},
     "output_type": "display_data"
    },
    {
     "data": {
      "text/html": [
       "<div>\n",
       "<style scoped>\n",
       "    .dataframe tbody tr th:only-of-type {\n",
       "        vertical-align: middle;\n",
       "    }\n",
       "\n",
       "    .dataframe tbody tr th {\n",
       "        vertical-align: top;\n",
       "    }\n",
       "\n",
       "    .dataframe thead th {\n",
       "        text-align: right;\n",
       "    }\n",
       "</style>\n",
       "<table border=\"1\" class=\"dataframe\">\n",
       "  <thead>\n",
       "    <tr style=\"text-align: right;\">\n",
       "      <th></th>\n",
       "      <th>Пол</th>\n",
       "      <th>Возраст</th>\n",
       "      <th>Зарплата</th>\n",
       "      <th>Члены семьи</th>\n",
       "      <th>Страховые выплаты</th>\n",
       "    </tr>\n",
       "  </thead>\n",
       "  <tbody>\n",
       "    <tr>\n",
       "      <td>3732</td>\n",
       "      <td>0</td>\n",
       "      <td>40.0</td>\n",
       "      <td>63800.0</td>\n",
       "      <td>0</td>\n",
       "      <td>0</td>\n",
       "    </tr>\n",
       "    <tr>\n",
       "      <td>943</td>\n",
       "      <td>0</td>\n",
       "      <td>40.0</td>\n",
       "      <td>62100.0</td>\n",
       "      <td>1</td>\n",
       "      <td>0</td>\n",
       "    </tr>\n",
       "    <tr>\n",
       "      <td>71</td>\n",
       "      <td>0</td>\n",
       "      <td>40.0</td>\n",
       "      <td>61800.0</td>\n",
       "      <td>1</td>\n",
       "      <td>0</td>\n",
       "    </tr>\n",
       "    <tr>\n",
       "      <td>3271</td>\n",
       "      <td>1</td>\n",
       "      <td>40.0</td>\n",
       "      <td>58200.0</td>\n",
       "      <td>0</td>\n",
       "      <td>0</td>\n",
       "    </tr>\n",
       "    <tr>\n",
       "      <td>4112</td>\n",
       "      <td>0</td>\n",
       "      <td>40.0</td>\n",
       "      <td>56300.0</td>\n",
       "      <td>1</td>\n",
       "      <td>0</td>\n",
       "    </tr>\n",
       "  </tbody>\n",
       "</table>\n",
       "</div>"
      ],
      "text/plain": [
       "      Пол  Возраст  Зарплата  Члены семьи  Страховые выплаты\n",
       "3732    0     40.0   63800.0            0                  0\n",
       "943     0     40.0   62100.0            1                  0\n",
       "71      0     40.0   61800.0            1                  0\n",
       "3271    1     40.0   58200.0            0                  0\n",
       "4112    0     40.0   56300.0            1                  0"
      ]
     },
     "metadata": {},
     "output_type": "display_data"
    },
    {
     "name": "stdout",
     "output_type": "stream",
     "text": [
      "\n"
     ]
    },
    {
     "data": {
      "text/plain": [
       "'Данные после преобразований: '"
      ]
     },
     "metadata": {},
     "output_type": "display_data"
    },
    {
     "data": {
      "text/html": [
       "<div>\n",
       "<style scoped>\n",
       "    .dataframe tbody tr th:only-of-type {\n",
       "        vertical-align: middle;\n",
       "    }\n",
       "\n",
       "    .dataframe tbody tr th {\n",
       "        vertical-align: top;\n",
       "    }\n",
       "\n",
       "    .dataframe thead th {\n",
       "        text-align: right;\n",
       "    }\n",
       "</style>\n",
       "<table border=\"1\" class=\"dataframe\">\n",
       "  <thead>\n",
       "    <tr style=\"text-align: right;\">\n",
       "      <th></th>\n",
       "      <th>Пол</th>\n",
       "      <th>Возраст</th>\n",
       "      <th>Зарплата</th>\n",
       "      <th>Члены семьи</th>\n",
       "    </tr>\n",
       "  </thead>\n",
       "  <tbody>\n",
       "    <tr>\n",
       "      <td>1123</td>\n",
       "      <td>0</td>\n",
       "      <td>40</td>\n",
       "      <td>63800</td>\n",
       "      <td>0</td>\n",
       "    </tr>\n",
       "    <tr>\n",
       "      <td>4573</td>\n",
       "      <td>0</td>\n",
       "      <td>40</td>\n",
       "      <td>62100</td>\n",
       "      <td>1</td>\n",
       "    </tr>\n",
       "    <tr>\n",
       "      <td>664</td>\n",
       "      <td>0</td>\n",
       "      <td>40</td>\n",
       "      <td>61800</td>\n",
       "      <td>1</td>\n",
       "    </tr>\n",
       "    <tr>\n",
       "      <td>259</td>\n",
       "      <td>1</td>\n",
       "      <td>40</td>\n",
       "      <td>58200</td>\n",
       "      <td>0</td>\n",
       "    </tr>\n",
       "    <tr>\n",
       "      <td>1259</td>\n",
       "      <td>0</td>\n",
       "      <td>40</td>\n",
       "      <td>56300</td>\n",
       "      <td>1</td>\n",
       "    </tr>\n",
       "  </tbody>\n",
       "</table>\n",
       "</div>"
      ],
      "text/plain": [
       "      Пол  Возраст  Зарплата  Члены семьи\n",
       "1123    0       40     63800            0\n",
       "4573    0       40     62100            1\n",
       "664     0       40     61800            1\n",
       "259     1       40     58200            0\n",
       "1259    0       40     56300            1"
      ]
     },
     "metadata": {},
     "output_type": "display_data"
    }
   ],
   "source": [
    "# создадим имена колонок\n",
    "new_columns = ['Пол', 'Возраст', 'Зарплата', 'Члены семьи']\n",
    "# выполним обратное преобразование по формуле\n",
    "df_1 = np.dot(features_train_M ,np.linalg.inv(M))\n",
    "df_2 = np.dot(features_test_M ,np.linalg.inv(M))\n",
    "# округлим\n",
    "df_1 = np.round(df_1).astype(int)\n",
    "df_2 = np.round(df_2).astype(int)\n",
    "# Соберем в датафрейм\n",
    "df_1 = pd.DataFrame(data=df_1, columns=new_columns)\n",
    "df_2 = pd.DataFrame(data=df_2, columns=new_columns)\n",
    "# объеденим в 1\n",
    "df  = pd.concat([df_1, df_2]).reset_index(drop=True)\n",
    "# оценим\n",
    "display('Данные до преобразований: ', data[data['Возраст']==40.0].sort_values(by='Зарплата', ascending=False).head(5))\n",
    "print('')\n",
    "display('Данные после преобразований: ', df[df['Возраст']==40].sort_values(by='Зарплата', ascending=False).head(5))\n"
   ]
  },
  {
   "cell_type": "markdown",
   "metadata": {},
   "source": [
    "**Ответ:** Видно, что качество Линейной регрессии не изменилось после операции умножения признаков Х на случайную матрицу.\n",
    "\n",
    "**Обоснование:** Параметры линейной регрессии в исходной и в преобразованной связаны правилами умножения матриц. При матричном умножении  по двум матрицам строится третья. Она состоит из скалярных произведений строк первой матрицы на столбцы второй. По сути мы получили преобразованные по \"определенному ключу\" данные которые сохранили свои свойства для предсказания целевого признака. но при этому стали полностью анонимны. После обратного преобразования мы получили те же данные."
   ]
  },
  {
   "cell_type": "markdown",
   "metadata": {},
   "source": [
    "Алгоритм работает, можно запускать в работу)\n",
    "\n"
   ]
  }
 ],
 "metadata": {
  "kernelspec": {
   "display_name": "Python 3",
   "language": "python",
   "name": "python3"
  },
  "language_info": {
   "codemirror_mode": {
    "name": "ipython",
    "version": 3
   },
   "file_extension": ".py",
   "mimetype": "text/x-python",
   "name": "python",
   "nbconvert_exporter": "python",
   "pygments_lexer": "ipython3",
   "version": "3.7.6"
  }
 },
 "nbformat": 4,
 "nbformat_minor": 2
}
